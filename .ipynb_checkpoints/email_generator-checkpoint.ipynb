{
 "cells": [
  {
   "cell_type": "code",
   "execution_count": 1,
   "id": "b747b60f",
   "metadata": {},
   "outputs": [],
   "source": [
    "from langchain_groq import ChatGroq"
   ]
  },
  {
   "cell_type": "code",
   "execution_count": 2,
   "id": "bcca073c",
   "metadata": {},
   "outputs": [
    {
     "name": "stdout",
     "output_type": "stream",
     "text": [
      "That's an easy one!\n",
      "\n",
      "The first person to set foot on the moon was Neil Armstrong. He stepped out of the lunar module Eagle and onto the moon's surface on July 20, 1969, during the Apollo 11 mission. Armstrong famously declared, \"That's one small step for man, one giant leap for mankind,\" as he became the first human to walk on the moon.\n"
     ]
    }
   ],
   "source": [
    "llm = ChatGroq(\n",
    "    temperature=0, \n",
    "    groq_api_key='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', \n",
    "    model_name=\"llama3-70b-8192\"\n",
    ")\n",
    "\n",
    "response = llm.invoke(\"The first person to land on moon was ...\")\n",
    "print(response.content)"
   ]
  },
  {
   "cell_type": "code",
   "execution_count": 3,
   "id": "bc350665",
   "metadata": {},
   "outputs": [
    {
     "name": "stdout",
     "output_type": "stream",
     "text": [
      "Python 3.13.1\n"
     ]
    }
   ],
   "source": [
    "!python --version"
   ]
  },
  {
   "cell_type": "code",
   "execution_count": 4,
   "id": "e1121fd4",
   "metadata": {},
   "outputs": [
    {
     "name": "stdout",
     "output_type": "stream",
     "text": [
      "Defaulting to user installation because normal site-packages is not writeable\n",
      "Requirement already satisfied: selenium in c:\\users\\anuriti\\appdata\\roaming\\python\\python313\\site-packages (4.30.0)\n",
      "Requirement already satisfied: webdriver-manager in c:\\users\\anuriti\\appdata\\roaming\\python\\python313\\site-packages (4.0.2)\n",
      "Requirement already satisfied: urllib3<3,>=1.26 in c:\\users\\anuriti\\appdata\\roaming\\python\\python313\\site-packages (from urllib3[socks]<3,>=1.26->selenium) (2.3.0)\n",
      "Requirement already satisfied: trio~=0.17 in c:\\users\\anuriti\\appdata\\roaming\\python\\python313\\site-packages (from selenium) (0.29.0)\n",
      "Requirement already satisfied: trio-websocket~=0.9 in c:\\users\\anuriti\\appdata\\roaming\\python\\python313\\site-packages (from selenium) (0.12.2)\n",
      "Requirement already satisfied: certifi>=2021.10.8 in c:\\users\\anuriti\\appdata\\roaming\\python\\python313\\site-packages (from selenium) (2025.1.31)\n",
      "Requirement already satisfied: typing_extensions~=4.9 in c:\\users\\anuriti\\appdata\\roaming\\python\\python313\\site-packages (from selenium) (4.12.2)\n",
      "Requirement already satisfied: websocket-client~=1.8 in c:\\users\\anuriti\\appdata\\roaming\\python\\python313\\site-packages (from selenium) (1.8.0)\n",
      "Requirement already satisfied: requests in c:\\users\\anuriti\\appdata\\roaming\\python\\python313\\site-packages (from webdriver-manager) (2.32.3)\n",
      "Requirement already satisfied: python-dotenv in c:\\users\\anuriti\\appdata\\roaming\\python\\python313\\site-packages (from webdriver-manager) (1.1.0)\n",
      "Requirement already satisfied: packaging in c:\\users\\anuriti\\appdata\\roaming\\python\\python313\\site-packages (from webdriver-manager) (24.2)\n",
      "Requirement already satisfied: attrs>=23.2.0 in c:\\users\\anuriti\\appdata\\roaming\\python\\python313\\site-packages (from trio~=0.17->selenium) (25.3.0)\n",
      "Requirement already satisfied: sortedcontainers in c:\\users\\anuriti\\appdata\\roaming\\python\\python313\\site-packages (from trio~=0.17->selenium) (2.4.0)\n",
      "Requirement already satisfied: idna in c:\\users\\anuriti\\appdata\\roaming\\python\\python313\\site-packages (from trio~=0.17->selenium) (3.10)\n",
      "Requirement already satisfied: outcome in c:\\users\\anuriti\\appdata\\roaming\\python\\python313\\site-packages (from trio~=0.17->selenium) (1.3.0.post0)\n",
      "Requirement already satisfied: sniffio>=1.3.0 in c:\\users\\anuriti\\appdata\\roaming\\python\\python313\\site-packages (from trio~=0.17->selenium) (1.3.1)\n",
      "Requirement already satisfied: cffi>=1.14 in c:\\users\\anuriti\\appdata\\roaming\\python\\python313\\site-packages (from trio~=0.17->selenium) (1.17.1)\n",
      "Requirement already satisfied: wsproto>=0.14 in c:\\users\\anuriti\\appdata\\roaming\\python\\python313\\site-packages (from trio-websocket~=0.9->selenium) (1.2.0)\n",
      "Requirement already satisfied: pysocks!=1.5.7,<2.0,>=1.5.6 in c:\\users\\anuriti\\appdata\\roaming\\python\\python313\\site-packages (from urllib3[socks]<3,>=1.26->selenium) (1.7.1)\n",
      "Requirement already satisfied: charset-normalizer<4,>=2 in c:\\users\\anuriti\\appdata\\roaming\\python\\python313\\site-packages (from requests->webdriver-manager) (3.4.1)\n",
      "Requirement already satisfied: pycparser in c:\\users\\anuriti\\appdata\\roaming\\python\\python313\\site-packages (from cffi>=1.14->trio~=0.17->selenium) (2.22)\n",
      "Requirement already satisfied: h11<1,>=0.9.0 in c:\\users\\anuriti\\appdata\\roaming\\python\\python313\\site-packages (from wsproto>=0.14->trio-websocket~=0.9->selenium) (0.14.0)\n"
     ]
    }
   ],
   "source": [
    "!pip install selenium webdriver-manager\n"
   ]
  },
  {
   "cell_type": "code",
   "execution_count": 5,
   "id": "e049df81",
   "metadata": {},
   "outputs": [
    {
     "name": "stdout",
     "output_type": "stream",
     "text": [
      "C:\\Python313\\python.exe\n"
     ]
    }
   ],
   "source": [
    "import sys\n",
    "print(sys.executable)\n"
   ]
  },
  {
   "cell_type": "code",
   "execution_count": 35,
   "id": "eff15116",
   "metadata": {},
   "outputs": [
    {
     "name": "stdout",
     "output_type": "stream",
     "text": [
      "Defaulting to user installation because normal site-packages is not writeable\n",
      "Requirement already satisfied: selenium in c:\\users\\anuriti\\appdata\\roaming\\python\\python313\\site-packages (4.30.0)\n",
      "Requirement already satisfied: webdriver-manager in c:\\users\\anuriti\\appdata\\roaming\\python\\python313\\site-packages (4.0.2)\n",
      "Requirement already satisfied: urllib3<3,>=1.26 in c:\\users\\anuriti\\appdata\\roaming\\python\\python313\\site-packages (from urllib3[socks]<3,>=1.26->selenium) (2.3.0)\n",
      "Requirement already satisfied: trio~=0.17 in c:\\users\\anuriti\\appdata\\roaming\\python\\python313\\site-packages (from selenium) (0.29.0)\n",
      "Requirement already satisfied: trio-websocket~=0.9 in c:\\users\\anuriti\\appdata\\roaming\\python\\python313\\site-packages (from selenium) (0.12.2)\n",
      "Requirement already satisfied: certifi>=2021.10.8 in c:\\users\\anuriti\\appdata\\roaming\\python\\python313\\site-packages (from selenium) (2025.1.31)\n",
      "Requirement already satisfied: typing_extensions~=4.9 in c:\\users\\anuriti\\appdata\\roaming\\python\\python313\\site-packages (from selenium) (4.12.2)\n",
      "Requirement already satisfied: websocket-client~=1.8 in c:\\users\\anuriti\\appdata\\roaming\\python\\python313\\site-packages (from selenium) (1.8.0)\n",
      "Requirement already satisfied: requests in c:\\users\\anuriti\\appdata\\roaming\\python\\python313\\site-packages (from webdriver-manager) (2.32.3)\n",
      "Requirement already satisfied: python-dotenv in c:\\users\\anuriti\\appdata\\roaming\\python\\python313\\site-packages (from webdriver-manager) (1.1.0)\n",
      "Requirement already satisfied: packaging in c:\\users\\anuriti\\appdata\\roaming\\python\\python313\\site-packages (from webdriver-manager) (24.2)\n",
      "Requirement already satisfied: attrs>=23.2.0 in c:\\users\\anuriti\\appdata\\roaming\\python\\python313\\site-packages (from trio~=0.17->selenium) (25.3.0)\n",
      "Requirement already satisfied: sortedcontainers in c:\\users\\anuriti\\appdata\\roaming\\python\\python313\\site-packages (from trio~=0.17->selenium) (2.4.0)\n",
      "Requirement already satisfied: idna in c:\\users\\anuriti\\appdata\\roaming\\python\\python313\\site-packages (from trio~=0.17->selenium) (3.10)\n",
      "Requirement already satisfied: outcome in c:\\users\\anuriti\\appdata\\roaming\\python\\python313\\site-packages (from trio~=0.17->selenium) (1.3.0.post0)\n",
      "Requirement already satisfied: sniffio>=1.3.0 in c:\\users\\anuriti\\appdata\\roaming\\python\\python313\\site-packages (from trio~=0.17->selenium) (1.3.1)\n",
      "Requirement already satisfied: cffi>=1.14 in c:\\users\\anuriti\\appdata\\roaming\\python\\python313\\site-packages (from trio~=0.17->selenium) (1.17.1)\n",
      "Requirement already satisfied: wsproto>=0.14 in c:\\users\\anuriti\\appdata\\roaming\\python\\python313\\site-packages (from trio-websocket~=0.9->selenium) (1.2.0)\n",
      "Requirement already satisfied: pysocks!=1.5.7,<2.0,>=1.5.6 in c:\\users\\anuriti\\appdata\\roaming\\python\\python313\\site-packages (from urllib3[socks]<3,>=1.26->selenium) (1.7.1)\n",
      "Requirement already satisfied: charset-normalizer<4,>=2 in c:\\users\\anuriti\\appdata\\roaming\\python\\python313\\site-packages (from requests->webdriver-manager) (3.4.1)\n",
      "Requirement already satisfied: pycparser in c:\\users\\anuriti\\appdata\\roaming\\python\\python313\\site-packages (from cffi>=1.14->trio~=0.17->selenium) (2.22)\n",
      "Requirement already satisfied: h11<1,>=0.9.0 in c:\\users\\anuriti\\appdata\\roaming\\python\\python313\\site-packages (from wsproto>=0.14->trio-websocket~=0.9->selenium) (0.14.0)\n"
     ]
    }
   ],
   "source": [
    "!pip install selenium webdriver-manager\n"
   ]
  },
  {
   "cell_type": "code",
   "execution_count": 6,
   "id": "a76bb04a",
   "metadata": {},
   "outputs": [
    {
     "name": "stdout",
     "output_type": "stream",
     "text": [
      "4.30.0\n"
     ]
    }
   ],
   "source": [
    "import selenium\n",
    "print(selenium.__version__)\n"
   ]
  },
  {
   "cell_type": "code",
   "execution_count": 30,
   "id": "7768d22d",
   "metadata": {},
   "outputs": [
    {
     "name": "stdout",
     "output_type": "stream",
     "text": [
      "Remote Freelancer-Remote Graphic Designer at Orca InternationalJobs  Top Trending Remote Jobs New!All JobsProgramming Full-Stack ProgrammingFront-End ProgrammingBack-End ProgrammingDesignDevops and SysadminManagement and FinanceProductCustomer SupportSales and MarketingAll Other JobsFull-TimeContractCommunity BlogPodcastRemote Work TrendsEventsFind work Top 100 Remote CompaniesTop Remote Job SearchesAdvanced Job Search New! Automate your Job Search New!FAQ - Job SeekersRSS FeedRemote Work ResourcesCareer Services Resume Review Service New! Automate your Job Search New!Find talent Remote Hiring GuideHiring Remote Software DevelopersWhy Choose WWR?FAQ - Employers Save with Bundles  Sign in Post a job Sign in  Jobs Top Trending Remote JobsNew!All Jobs Programming Full-Stack ProgrammingFront-End ProgrammingBack-End ProgrammingDesignDevops and SysadminManagement and FinanceProductCustomer SupportSales and MarketingAll Other JobsFull-TimeContract Community BlogPodcastRemote Work TrendsEvents Find work Top 100 Remote CompaniesTop Remote Job SearchesAdvanced Job Search New! Automate your Job Search New!FAQ - Job SeekersRSS FeedRemote Work Resources Career Services Resume Review Service New! Automate your Job Search New! Find talent Remote Hiring GuideHiring Remote Software DevelopersWhy Choose WWR?FAQ - Employers Save with Bundles Post a job× See more Design jobs→← Back to all jobs  All jobs  Design  Freelancer-Remote Graphic Designer  Freelancer-Remote Graphic Designer Posted A few minutes ago26 ApplicantsWe are a fast-growing company specializing in the production and online sale of cosmetics and perfumes through eCommerce. With a dynamic, multinational team of over 20 talented professionals spanning 10+ countries, we bring diverse perspectives and innovation to everything we do.As one of the leading players in the eCommerce space, we’re not just creating exceptional products – we’re also incubating exciting new brands that redefine the beauty and fragrance industry. Driven by creativity, quality, and a passion for excellence, we connect with customers worldwide to deliver products they love. Apply now  Save job This is a 100% Remote - Full Time position for Freelancers only.About Us:We are a premium perfume and cosmetics brand, handcrafted in Switzerland, with a strong presence in the DACH market and expanding internationally. As we go public, we are looking for a highly motivated, execution-driven marketing leader to drive our growth and brand impact across multiple channels.About the Role:As a Freelancer-Remote Graphic Designer, you will be responsible for designing, maintaining, and optimizing visual assets for websites, marketing materials, social media, and digital campaigns. You will collaborate closely with designers, developers, content creators, and marketing professionals to ensure a cohesive and high-quality brand identity for our clients. This role requires a strong eye for design, creativity, and the ability to adapt to various brand guidelines. Key Responsibilities: Graphic Design & Branding•           Develop and maintain high-quality visual content for websites, social media, email campaigns, and other marketing materials.•           Ensure all designs align with the branding and identity of client.•           Create digital assets including banners, infographics, product images, and advertisements.UI/UX Design•           Create visually appealing and user-friendly designs for web pages and landing pages.•           Develop wireframes, prototypes, and design mockups for website updates and new features.•           Ensure designs are mobile-friendly and adhere to modern web standards.Collaboration & Communication•           Work closely with marketing teams to design promotional graphics for digital campaigns.•           Collaborate with developers to ensure proper implementation of design elements.•           Provide creative direction and input on branding and visual strategies.Optimization & Performance•           Optimize images and graphics for maximum efficiency and fast loading speeds.•           Conduct A/B testing on visual elements to improve engagement and conversion rates.•           Continuously research and implement the latest design trends and best practices.Troubleshooting & Adjustments•           Identify and resolve design-related issues as needed.•           Revise and update designs based on feedback from stakeholders. Required Skills & Qualifications: Experience•           3+ years of experience in graphic design, preferably in digital marketing or ecommerce.•           Experience working with multiple brands or within an agency setting is a plus.Technical Skills:•           Proficiency in Adobe Creative Suite (Photoshop, Illustrator, InDesign, XD).•           Experience with Figma, Sketch, or other UI/UX design tools.•           Knowledge of web design principles, typography, and colour theory.•           Basic knowledge of HTML & CSS is a plus.Soft Skills•           Strong creative thinking and problem-solving abilities.•           Excellent attention to detail and ability to follow brand guidelines.•           Strong communication and teamwork skills.•           Ability to manage multiple projects and meet deadlines in a remote setting. Work Environment & Expectations: •           Remote Work: full time, Starting 8:00 am CET•           Work Schedule: flexible schedule with deliverables-based accountability.•           Collaboration Tools: Slack, Asana, Notion, Google Workspace, and Figma.•           Performance Reviews: Monthly check-ins and performance assessments based on deliverables and quality.  Apply NowLet's start your dream job Apply now Automatically Apply to Remote Design JobsLet your copilot automatically search and apply to remote jobs from We Work RemotelyTry it now Orca International View company Jobs posted: 2  About the job  Posted on A few minutes ago Apply before Apr 27th, 2025 Job type  Full-Time  Category Design Region  Anywhere in the World  Apply now  Related Jobs  Remote Design jobs→View Company Profile Senior UX/UI Designer  2d  OnTheGoSystems  100% remote Featured Top 100  Contract  Europe Only View Company Profile Client Facing Business Analyst  3d  Casasoft  [REMOTE] Featured Full-Time View Company Profile Senior Web Designer  3d  AgentFire.com  USA Featured Full-Time  $50,000 - $74,999 USD  🇦🇱 Albania  🇦🇷 Argentina  🇧🇦 Bosnia and Herzegovina  🇧🇪 Belgium  🇧🇬 Bulgaria  🇧🇷 Brazil  🇧🇾 Belarus  🇨🇭 Switzerland  🇨🇱 Chile  🇨🇴 Colombia  🇨🇾 Cyprus  🇨🇿 Czechia  🇩🇰 Denmark  🇪🇨 Ecuador  🇪🇪 Estonia  🇪🇸 Spain  🇫🇮 Finland  🇫🇷 France  🇬🇧 United Kingdom of Great Britain and Northern Ireland  🇬🇷 Greece  🇬🇾 Guyana  🇭🇷 Croatia  🇭🇺 Hungary  🇮🇪 Ireland  🇮🇸 Iceland  🇮🇹 Italy  🇲🇩 Moldova (Republic of)  🇲🇪 Montenegro  🇳🇴 Norway  🇵🇪 Peru  🇵🇱 Poland  🇵🇹 Portugal  🇵🇾 Paraguay  🇷🇴 Romania  🇷🇸 Serbia  🇷🇺 Russian Federation  🇸🇪 Sweden  🇸🇻 El Salvador  🇺🇦 Ukraine  🇺🇸 United States of America  🇺🇾 Uruguay  🇻🇪 Venezuela (Bolivarian Republic of) Top 100 CompaniesBlogFAQ - EmployersEventsRSS 34,384  Remote jobs posted  © 2025 We Work Remotely  © 2025 We Work Remotely Contact SupportTermsGuidelinesPrivacyWhy Choose WWR?\n"
     ]
    }
   ],
   "source": [
    "from langchain_community.document_loaders import WebBaseLoader\n",
    "\n",
    "loader = WebBaseLoader(\"https://weworkremotely.com/remote-jobs/orca-international-freelancer-remote-graphic-designer\")\n",
    "page_data = loader.load().pop().page_content\n",
    "print(page_data)\n"
   ]
  },
  {
   "cell_type": "code",
   "execution_count": 31,
   "id": "24958356",
   "metadata": {},
   "outputs": [
    {
     "data": {
      "text/plain": [
       "str"
      ]
     },
     "execution_count": 31,
     "metadata": {},
     "output_type": "execute_result"
    }
   ],
   "source": [
    "from langchain_core.prompts import PromptTemplate\n",
    "\n",
    "prompt_extract = PromptTemplate.from_template(\n",
    "        \"\"\"\n",
    "        ### SCRAPED TEXT FROM WEBSITE:\n",
    "        {page_data}\n",
    "        ### INSTRUCTION:\n",
    "        The scraped text is from the career's page of a website.\n",
    "        Your job is to extract the job postings and return them in JSON format containing the \n",
    "        following keys: `role`, `experience`, `skills` and `description`.\n",
    "        Only return the valid JSON.\n",
    "        ### VALID JSON (NO PREAMBLE):    \n",
    "        \"\"\"\n",
    ")\n",
    "\n",
    "chain_extract = prompt_extract | llm \n",
    "res = chain_extract.invoke(input={'page_data':page_data})\n",
    "type(res.content)"
   ]
  },
  {
   "cell_type": "code",
   "execution_count": 71,
   "id": "403a1032",
   "metadata": {},
   "outputs": [
    {
     "data": {
      "text/plain": [
       "[{'role': 'Freelancer-Remote Graphic Designer',\n",
       "  'experience': '3+ years of experience in graphic design, preferably in digital marketing or ecommerce.',\n",
       "  'skills': ['Proficiency in Adobe Creative Suite (Photoshop, Illustrator, InDesign, XD)',\n",
       "   'Experience with Figma, Sketch, or other UI/UX design tools',\n",
       "   'Knowledge of web design principles, typography, and colour theory',\n",
       "   'Basic knowledge of HTML & CSS is a plus'],\n",
       "  'description': 'As a Freelancer-Remote Graphic Designer, you will be responsible for designing, maintaining, and optimizing visual assets for websites, marketing materials, social media, and digital campaigns. You will collaborate closely with designers, developers, content creators, and marketing professionals to ensure a cohesive and high-quality brand identity for our clients.'},\n",
       " {'role': 'Senior UX/UI Designer',\n",
       "  'experience': None,\n",
       "  'skills': None,\n",
       "  'description': None},\n",
       " {'role': 'Client Facing Business Analyst',\n",
       "  'experience': None,\n",
       "  'skills': None,\n",
       "  'description': None},\n",
       " {'role': 'Senior Web Designer',\n",
       "  'experience': None,\n",
       "  'skills': None,\n",
       "  'description': None}]"
      ]
     },
     "execution_count": 71,
     "metadata": {},
     "output_type": "execute_result"
    }
   ],
   "source": [
    "from langchain_core.output_parsers import JsonOutputParser\n",
    "\n",
    "json_parser = JsonOutputParser()\n",
    "json_res = json_parser.parse(res.content)\n",
    "json_res"
   ]
  },
  {
   "cell_type": "code",
   "execution_count": 56,
   "id": "32b860a4",
   "metadata": {},
   "outputs": [
    {
     "data": {
      "text/plain": [
       "list"
      ]
     },
     "execution_count": 56,
     "metadata": {},
     "output_type": "execute_result"
    }
   ],
   "source": [
    "type(json_res)"
   ]
  },
  {
   "cell_type": "code",
   "execution_count": 72,
   "id": "1d4d318c",
   "metadata": {},
   "outputs": [
    {
     "data": {
      "text/html": [
       "<div>\n",
       "<style scoped>\n",
       "    .dataframe tbody tr th:only-of-type {\n",
       "        vertical-align: middle;\n",
       "    }\n",
       "\n",
       "    .dataframe tbody tr th {\n",
       "        vertical-align: top;\n",
       "    }\n",
       "\n",
       "    .dataframe thead th {\n",
       "        text-align: right;\n",
       "    }\n",
       "</style>\n",
       "<table border=\"1\" class=\"dataframe\">\n",
       "  <thead>\n",
       "    <tr style=\"text-align: right;\">\n",
       "      <th></th>\n",
       "      <th>Techstack</th>\n",
       "      <th>Links</th>\n",
       "    </tr>\n",
       "  </thead>\n",
       "  <tbody>\n",
       "    <tr>\n",
       "      <th>0</th>\n",
       "      <td>React, Node.js, MongoDB</td>\n",
       "      <td>https://example.com/react-portfolio</td>\n",
       "    </tr>\n",
       "    <tr>\n",
       "      <th>1</th>\n",
       "      <td>Angular,.NET, SQL Server</td>\n",
       "      <td>https://example.com/angular-portfolio</td>\n",
       "    </tr>\n",
       "    <tr>\n",
       "      <th>2</th>\n",
       "      <td>Vue.js, Ruby on Rails, PostgreSQL</td>\n",
       "      <td>https://example.com/vue-portfolio</td>\n",
       "    </tr>\n",
       "    <tr>\n",
       "      <th>3</th>\n",
       "      <td>Python, Django, MySQL</td>\n",
       "      <td>https://example.com/python-portfolio</td>\n",
       "    </tr>\n",
       "    <tr>\n",
       "      <th>4</th>\n",
       "      <td>Java, Spring Boot, Oracle</td>\n",
       "      <td>https://example.com/java-portfolio</td>\n",
       "    </tr>\n",
       "    <tr>\n",
       "      <th>5</th>\n",
       "      <td>Flutter, Firebase, GraphQL</td>\n",
       "      <td>https://example.com/flutter-portfolio</td>\n",
       "    </tr>\n",
       "    <tr>\n",
       "      <th>6</th>\n",
       "      <td>WordPress, PHP, MySQL</td>\n",
       "      <td>https://example.com/wordpress-portfolio</td>\n",
       "    </tr>\n",
       "    <tr>\n",
       "      <th>7</th>\n",
       "      <td>Magento, PHP, MySQL</td>\n",
       "      <td>https://example.com/magento-portfolio</td>\n",
       "    </tr>\n",
       "    <tr>\n",
       "      <th>8</th>\n",
       "      <td>React Native, Node.js, MongoDB</td>\n",
       "      <td>https://example.com/react-native-portfolio</td>\n",
       "    </tr>\n",
       "    <tr>\n",
       "      <th>9</th>\n",
       "      <td>iOS, Swift, Core Data</td>\n",
       "      <td>https://example.com/ios-portfolio</td>\n",
       "    </tr>\n",
       "    <tr>\n",
       "      <th>10</th>\n",
       "      <td>Android, Java, Room Persistence</td>\n",
       "      <td>https://example.com/android-portfolio</td>\n",
       "    </tr>\n",
       "    <tr>\n",
       "      <th>11</th>\n",
       "      <td>Kotlin, Android, Firebase</td>\n",
       "      <td>https://example.com/kotlin-android-portfolio</td>\n",
       "    </tr>\n",
       "    <tr>\n",
       "      <th>12</th>\n",
       "      <td>Android TV, Kotlin, Android NDK</td>\n",
       "      <td>https://example.com/android-tv-portfolio</td>\n",
       "    </tr>\n",
       "    <tr>\n",
       "      <th>13</th>\n",
       "      <td>iOS, Swift, ARKit</td>\n",
       "      <td>https://example.com/ios-ar-portfolio</td>\n",
       "    </tr>\n",
       "    <tr>\n",
       "      <th>14</th>\n",
       "      <td>Cross-platform, Xamarin, Azure</td>\n",
       "      <td>https://example.com/xamarin-portfolio</td>\n",
       "    </tr>\n",
       "    <tr>\n",
       "      <th>15</th>\n",
       "      <td>Backend, Kotlin, Spring Boot</td>\n",
       "      <td>https://example.com/kotlin-backend-portfolio</td>\n",
       "    </tr>\n",
       "    <tr>\n",
       "      <th>16</th>\n",
       "      <td>Frontend, TypeScript, Angular</td>\n",
       "      <td>https://example.com/typescript-frontend-portfolio</td>\n",
       "    </tr>\n",
       "    <tr>\n",
       "      <th>17</th>\n",
       "      <td>Full-stack, JavaScript, Express.js</td>\n",
       "      <td>https://example.com/full-stack-js-portfolio</td>\n",
       "    </tr>\n",
       "    <tr>\n",
       "      <th>18</th>\n",
       "      <td>Machine Learning, Python, TensorFlow</td>\n",
       "      <td>https://example.com/ml-python-portfolio</td>\n",
       "    </tr>\n",
       "    <tr>\n",
       "      <th>19</th>\n",
       "      <td>DevOps, Jenkins, Docker</td>\n",
       "      <td>https://example.com/devops-portfolio</td>\n",
       "    </tr>\n",
       "  </tbody>\n",
       "</table>\n",
       "</div>"
      ],
      "text/plain": [
       "                               Techstack  \\\n",
       "0                React, Node.js, MongoDB   \n",
       "1               Angular,.NET, SQL Server   \n",
       "2      Vue.js, Ruby on Rails, PostgreSQL   \n",
       "3                  Python, Django, MySQL   \n",
       "4              Java, Spring Boot, Oracle   \n",
       "5             Flutter, Firebase, GraphQL   \n",
       "6                  WordPress, PHP, MySQL   \n",
       "7                    Magento, PHP, MySQL   \n",
       "8         React Native, Node.js, MongoDB   \n",
       "9                  iOS, Swift, Core Data   \n",
       "10       Android, Java, Room Persistence   \n",
       "11             Kotlin, Android, Firebase   \n",
       "12       Android TV, Kotlin, Android NDK   \n",
       "13                     iOS, Swift, ARKit   \n",
       "14        Cross-platform, Xamarin, Azure   \n",
       "15          Backend, Kotlin, Spring Boot   \n",
       "16         Frontend, TypeScript, Angular   \n",
       "17    Full-stack, JavaScript, Express.js   \n",
       "18  Machine Learning, Python, TensorFlow   \n",
       "19               DevOps, Jenkins, Docker   \n",
       "\n",
       "                                                Links  \n",
       "0                 https://example.com/react-portfolio  \n",
       "1               https://example.com/angular-portfolio  \n",
       "2                   https://example.com/vue-portfolio  \n",
       "3                https://example.com/python-portfolio  \n",
       "4                  https://example.com/java-portfolio  \n",
       "5               https://example.com/flutter-portfolio  \n",
       "6             https://example.com/wordpress-portfolio  \n",
       "7               https://example.com/magento-portfolio  \n",
       "8          https://example.com/react-native-portfolio  \n",
       "9                   https://example.com/ios-portfolio  \n",
       "10              https://example.com/android-portfolio  \n",
       "11       https://example.com/kotlin-android-portfolio  \n",
       "12           https://example.com/android-tv-portfolio  \n",
       "13               https://example.com/ios-ar-portfolio  \n",
       "14              https://example.com/xamarin-portfolio  \n",
       "15       https://example.com/kotlin-backend-portfolio  \n",
       "16  https://example.com/typescript-frontend-portfolio  \n",
       "17        https://example.com/full-stack-js-portfolio  \n",
       "18            https://example.com/ml-python-portfolio  \n",
       "19               https://example.com/devops-portfolio  "
      ]
     },
     "execution_count": 72,
     "metadata": {},
     "output_type": "execute_result"
    }
   ],
   "source": [
    "import pandas as pd\n",
    "\n",
    "df = pd.read_csv(\"my_portfolio.csv\")\n",
    "df\n",
    "\n"
   ]
  },
  {
   "cell_type": "code",
   "execution_count": 73,
   "id": "1d909e05",
   "metadata": {},
   "outputs": [],
   "source": [
    "import uuid\n",
    "import chromadb\n",
    "\n",
    "client = chromadb.PersistentClient('vectorstore')\n",
    "collection = client.get_or_create_collection(name=\"portfolio\")\n",
    "\n",
    "if not collection.count():\n",
    "    for _, row in df.iterrows():\n",
    "        collection.add(documents=row[\"Techstack\"],\n",
    "                       metadatas={\"links\": row[\"Links\"]},\n",
    "                       ids=[str(uuid.uuid4())])"
   ]
  },
  {
   "cell_type": "code",
   "execution_count": 80,
   "id": "cd002ca4",
   "metadata": {},
   "outputs": [
    {
     "name": "stdout",
     "output_type": "stream",
     "text": [
      "[[{'links': 'https://example.com/magento-portfolio'}, {'links': 'https://example.com/ios-ar-portfolio'}]]\n"
     ]
    }
   ],
   "source": [
    "if isinstance(job, list) and job:\n",
    "    job_data = job[0]  # Extract the first job entry\n",
    "    skills = job_data.get(\"skills\", [])\n",
    "\n",
    "    # Ensure skills is a list and join for querying\n",
    "    query_text = [\" \".join(skills)] if isinstance(skills, list) else []\n",
    "\n",
    "    links = collection.query(query_texts=query_text, n_results=2).get(\"metadatas\", [])\n",
    "    print(links)\n",
    "else:\n",
    "    print(\"Error: job is empty or not a list.\")\n",
    "\n",
    "\n"
   ]
  },
  {
   "cell_type": "code",
   "execution_count": 82,
   "id": "9fa17478",
   "metadata": {},
   "outputs": [
    {
     "data": {
      "text/plain": [
       "[{'role': 'Freelancer-Remote Graphic Designer',\n",
       "  'experience': '3+ years of experience in graphic design, preferably in digital marketing or ecommerce.',\n",
       "  'skills': ['Proficiency in Adobe Creative Suite (Photoshop, Illustrator, InDesign, XD)',\n",
       "   'Experience with Figma, Sketch, or other UI/UX design tools',\n",
       "   'Knowledge of web design principles, typography, and colour theory',\n",
       "   'Basic knowledge of HTML & CSS is a plus'],\n",
       "  'description': 'As a Freelancer-Remote Graphic Designer, you will be responsible for designing, maintaining, and optimizing visual assets for websites, marketing materials, social media, and digital campaigns. You will collaborate closely with designers, developers, content creators, and marketing professionals to ensure a cohesive and high-quality brand identity for our clients.'},\n",
       " {'role': 'Senior UX/UI Designer',\n",
       "  'experience': None,\n",
       "  'skills': None,\n",
       "  'description': None},\n",
       " {'role': 'Client Facing Business Analyst',\n",
       "  'experience': None,\n",
       "  'skills': None,\n",
       "  'description': None},\n",
       " {'role': 'Senior Web Designer',\n",
       "  'experience': None,\n",
       "  'skills': None,\n",
       "  'description': None}]"
      ]
     },
     "execution_count": 82,
     "metadata": {},
     "output_type": "execute_result"
    }
   ],
   "source": [
    "job"
   ]
  },
  {
   "cell_type": "code",
   "execution_count": 89,
   "id": "373bdc7f",
   "metadata": {},
   "outputs": [
    {
     "name": "stdout",
     "output_type": "stream",
     "text": [
      "Here is the cold email:\n",
      "\n",
      "Subject: Expert Graphic Design Services for Your Business\n",
      "\n",
      "Dear [Client],\n",
      "\n",
      "I came across your job posting for a Freelancer-Remote Graphic Designer and was impressed by your commitment to creating a cohesive brand identity. As a Business Development Executive at Fosho, I'd like to introduce you to our team of expert graphic designers who can help you achieve your design goals.\n",
      "\n",
      "At Fosho, we have a proven track record of delivering high-quality design solutions that drive business results. Our team of experienced designers is well-versed in Adobe Creative Suite, Figma, Sketch, and other UI/UX design tools. We understand the importance of web design principles, typography, and color theory, and can create visually stunning assets that align with your brand identity.\n",
      "\n",
      "Our team has a strong background in digital marketing and ecommerce, and we're confident that we can help you design, maintain, and optimize visual assets for your websites, marketing materials, social media, and digital campaigns.\n",
      "\n",
      "To give you an idea of our capabilities, I'd like to share some of our notable projects:\n",
      "\n",
      "* Our Magento portfolio showcases our expertise in designing and developing custom ecommerce solutions: https://example.com/magento-portfolio\n",
      "\n",
      "We'd love the opportunity to discuss how our team can support your design needs. If you're interested in learning more, please don't hesitate to reach out.\n",
      "\n",
      "Best regards,\n",
      "\n",
      "Anuriti\n",
      "Business Development Executive, Fosho\n"
     ]
    }
   ],
   "source": [
    "prompt_email = PromptTemplate.from_template(\n",
    "        \"\"\"\n",
    "        ### JOB DESCRIPTION:\n",
    "        {job_description}\n",
    "        \n",
    "        ### INSTRUCTION:\n",
    "        You are Anuriti, a business development executive at Fosho. Fosho is an AI & Software Consulting company dedicated to facilitating\n",
    "        the seamless integration of business processes through automated tools. \n",
    "        Over our experience, we have empowered numerous enterprises with tailored solutions, fostering scalability, \n",
    "        process optimization, cost reduction, and heightened overall efficiency. \n",
    "        Your job is to write a cold email to the client regarding the job mentioned above describing the capability of AtliQ \n",
    "        in fulfilling their needs.\n",
    "        Also add the most relevant ones from the following links to showcase Fosho's portfolio: {link_list}\n",
    "        Remember you are Anuriti, BDE at Fosho. \n",
    "        Do not provide a preamble.\n",
    "        ### EMAIL (NO PREAMBLE):\n",
    "        \n",
    "        \"\"\"\n",
    "        )\n",
    "\n",
    "chain_email = prompt_email | llm\n",
    "res = chain_email.invoke({\"job_description\": str(job), \"link_list\": links})\n",
    "print(res.content)\n",
    "\n"
   ]
  },
  {
   "cell_type": "code",
   "execution_count": 39,
   "id": "eee12813",
   "metadata": {},
   "outputs": [],
   "source": []
  },
  {
   "cell_type": "code",
   "execution_count": null,
   "id": "77748444",
   "metadata": {},
   "outputs": [],
   "source": [
    "\n"
   ]
  },
  {
   "cell_type": "code",
   "execution_count": null,
   "id": "12c1be33",
   "metadata": {},
   "outputs": [],
   "source": [
    "\n"
   ]
  },
  {
   "cell_type": "code",
   "execution_count": null,
   "id": "abdc23ae",
   "metadata": {},
   "outputs": [],
   "source": [
    "\n"
   ]
  },
  {
   "cell_type": "code",
   "execution_count": null,
   "id": "97c446dd",
   "metadata": {},
   "outputs": [],
   "source": [
    "\n"
   ]
  },
  {
   "cell_type": "code",
   "execution_count": null,
   "id": "4ccfe32a",
   "metadata": {},
   "outputs": [],
   "source": [
    "\n"
   ]
  },
  {
   "cell_type": "code",
   "execution_count": null,
   "id": "4a9c59c0",
   "metadata": {},
   "outputs": [],
   "source": [
    "\n"
   ]
  },
  {
   "cell_type": "code",
   "execution_count": null,
   "id": "948b3e18",
   "metadata": {},
   "outputs": [],
   "source": []
  },
  {
   "cell_type": "code",
   "execution_count": null,
   "id": "5df4ca30",
   "metadata": {},
   "outputs": [],
   "source": [
    "\n"
   ]
  },
  {
   "cell_type": "code",
   "execution_count": null,
   "id": "f83829da",
   "metadata": {},
   "outputs": [],
   "source": []
  },
  {
   "cell_type": "code",
   "execution_count": null,
   "id": "355d7071",
   "metadata": {},
   "outputs": [],
   "source": []
  }
 ],
 "metadata": {
  "kernelspec": {
   "display_name": "Python 3.13",
   "language": "python",
   "name": "python313"
  },
  "language_info": {
   "codemirror_mode": {
    "name": "ipython",
    "version": 3
   },
   "file_extension": ".py",
   "mimetype": "text/x-python",
   "name": "python",
   "nbconvert_exporter": "python",
   "pygments_lexer": "ipython3",
   "version": "3.13.1"
  }
 },
 "nbformat": 4,
 "nbformat_minor": 5
}
